{
 "cells": [
  {
   "cell_type": "code",
   "execution_count": 74,
   "metadata": {},
   "outputs": [],
   "source": [
    "%reload_ext autoreload\n",
    "%autoreload 2\n",
    "import os\n",
    "os.environ['TF_CPP_MIN_LOG_LEVEL'] = '2'\n",
    "\n",
    "import tensorflow as tf\n",
    "from tensorflow import keras\n",
    "import numpy as np\n",
    "import h5py\n",
    "import sys,time,json\n",
    "import random\n",
    "from IPython.display import display\n",
    "import fidle\n",
    "from myutils.dataset import  read_dataset,get_data_generator_v1,get_data_generator_v2\n",
    "from myutils.models import get_model_v1,get_model_v2,get_model_v3\n",
    "from myutils.experimental_protocol import experimental_protocol_multi_run\n",
    "import fidle\n",
    "import pandas as pd"
   ]
  },
  {
   "cell_type": "code",
   "execution_count": 75,
   "metadata": {},
   "outputs": [],
   "source": [
    "enhanced_dir = './data-1-scale'\n",
    "\n",
    "# Protocol experimental\n",
    "# datasets      = ['set-24x24-L', 'set-24x24-RGB']\n",
    "datasets = ['set-24x24-L-LHE','set-24x24-RGB','set-48x48-L','set-48x48-RGB','set-48x48-RGB-HE']\n",
    "models        = ['get_model_v1','get_model_v2', 'get_model_v3']\n",
    "data_generators = [None,'get_data_generator_v1','get_data_generator_v2']\n",
    "batch_size    = 64\n",
    "epochs        = 20\n",
    "scale         = 1\n",
    "\n",
    "fit_verbosity = 0\n",
    "run_dir ='./proto-exp-{}-scale-out'.format(scale)"
   ]
  },
  {
   "cell_type": "code",
   "execution_count": 76,
   "metadata": {},
   "outputs": [
    {
     "data": {
      "text/markdown": [
       "<br>**Full Convolution Notebook**"
      ],
      "text/plain": [
       "<IPython.core.display.Markdown object>"
      ]
     },
     "metadata": {},
     "output_type": "display_data"
    },
    {
     "name": "stdout",
     "output_type": "stream",
     "text": [
      "Now is             :  Wednesday 27 December 2023 - 21h42m06s\n",
      "Tag id             :  079698\n",
      "Working directory  :  /home/20015587/Documents/ING3/DeepL/TP1/resolution\n",
      "Output  directory  :  ./proto-exp-1-scale-out\n"
     ]
    }
   ],
   "source": [
    "random.seed(time.time())\n",
    "\n",
    "# ---- Where I am ?\n",
    "now    = time.strftime(\"%A %d %B %Y - %Hh%Mm%Ss\")\n",
    "here   = os.getcwd()\n",
    "tag_id = '{:06}'.format(random.randint(0,99999))\n",
    "\n",
    "\n",
    "fidle.utils.subtitle('Full Convolution Notebook')\n",
    "print('Now is             : ', now      )\n",
    "print('Tag id             : ', tag_id   )\n",
    "print('Working directory  : ', here     )\n",
    "print('Output  directory  : ', run_dir  )"
   ]
  },
  {
   "cell_type": "code",
   "execution_count": 77,
   "metadata": {},
   "outputs": [
    {
     "name": "stdout",
     "output_type": "stream",
     "text": [
      "\n",
      "---- Run ------------------------------\n"
     ]
    },
    {
     "data": {
      "text/markdown": [
       "<br>**Dataset : set-24x24-L-LHE**"
      ],
      "text/plain": [
       "<IPython.core.display.Markdown object>"
      ]
     },
     "metadata": {},
     "output_type": "display_data"
    },
    {
     "name": "stdout",
     "output_type": "stream",
     "text": [
      "Datasets have been shuffled.\n",
      "Datasets have been resized with a factor  1\n",
      "    Run model model_v1  : \n",
      "          With Datagenerator: False\n",
      "Accuracy=  68.86    Duration=  59.21\n",
      "          With Datagenerator: True\n"
     ]
    },
    {
     "name": "stderr",
     "output_type": "stream",
     "text": [
      "2023-12-27 21:43:05.882264: I tensorflow/core/common_runtime/executor.cc:1197] [/device:CPU:0] (DEBUG INFO) Executor start aborting (this does not indicate an error and you can ignore this message): INVALID_ARGUMENT: You must feed a value for placeholder tensor 'Placeholder/_0' with dtype int32\n",
      "\t [[{{node Placeholder/_0}}]]\n"
     ]
    },
    {
     "name": "stdout",
     "output_type": "stream",
     "text": [
      "Accuracy=  72.16    Duration=  60.69\n",
      "          With Datagenerator: True\n"
     ]
    },
    {
     "name": "stderr",
     "output_type": "stream",
     "text": [
      "2023-12-27 21:44:06.564797: I tensorflow/core/common_runtime/executor.cc:1197] [/device:CPU:0] (DEBUG INFO) Executor start aborting (this does not indicate an error and you can ignore this message): INVALID_ARGUMENT: You must feed a value for placeholder tensor 'Placeholder/_0' with dtype int32\n",
      "\t [[{{node Placeholder/_0}}]]\n"
     ]
    },
    {
     "name": "stdout",
     "output_type": "stream",
     "text": [
      "Accuracy=  72.46    Duration= 1227.58\n",
      "    Run model model_v2  : \n",
      "          With Datagenerator: False\n",
      "Accuracy=  70.36    Duration=  68.51\n",
      "          With Datagenerator: True\n"
     ]
    },
    {
     "name": "stderr",
     "output_type": "stream",
     "text": [
      "2023-12-27 22:05:42.708149: I tensorflow/core/common_runtime/executor.cc:1197] [/device:CPU:0] (DEBUG INFO) Executor start aborting (this does not indicate an error and you can ignore this message): INVALID_ARGUMENT: You must feed a value for placeholder tensor 'Placeholder/_0' with dtype int32\n",
      "\t [[{{node Placeholder/_0}}]]\n"
     ]
    },
    {
     "name": "stdout",
     "output_type": "stream",
     "text": [
      "Accuracy=  73.65    Duration=  72.61\n",
      "          With Datagenerator: True\n"
     ]
    },
    {
     "name": "stderr",
     "output_type": "stream",
     "text": [
      "2023-12-27 22:06:55.327737: I tensorflow/core/common_runtime/executor.cc:1197] [/device:CPU:0] (DEBUG INFO) Executor start aborting (this does not indicate an error and you can ignore this message): INVALID_ARGUMENT: You must feed a value for placeholder tensor 'Placeholder/_0' with dtype int32\n",
      "\t [[{{node Placeholder/_0}}]]\n"
     ]
    },
    {
     "name": "stdout",
     "output_type": "stream",
     "text": [
      "Accuracy=  71.86    Duration=  76.41\n",
      "    Run model model_v3  : \n",
      "          With Datagenerator: False\n",
      "Accuracy=  64.67    Duration=  88.99\n",
      "          With Datagenerator: True\n"
     ]
    },
    {
     "name": "stderr",
     "output_type": "stream",
     "text": [
      "2023-12-27 22:09:40.768778: I tensorflow/core/common_runtime/executor.cc:1197] [/device:CPU:0] (DEBUG INFO) Executor start aborting (this does not indicate an error and you can ignore this message): INVALID_ARGUMENT: You must feed a value for placeholder tensor 'Placeholder/_0' with dtype int32\n",
      "\t [[{{node Placeholder/_0}}]]\n"
     ]
    },
    {
     "name": "stdout",
     "output_type": "stream",
     "text": [
      "Accuracy=  68.56    Duration=  86.99\n",
      "          With Datagenerator: True\n"
     ]
    },
    {
     "name": "stderr",
     "output_type": "stream",
     "text": [
      "2023-12-27 22:11:07.760591: I tensorflow/core/common_runtime/executor.cc:1197] [/device:CPU:0] (DEBUG INFO) Executor start aborting (this does not indicate an error and you can ignore this message): INVALID_ARGUMENT: You must feed a value for placeholder tensor 'Placeholder/_0' with dtype int32\n",
      "\t [[{{node Placeholder/_0}}]]\n"
     ]
    },
    {
     "name": "stdout",
     "output_type": "stream",
     "text": [
      "Accuracy=  70.36    Duration=  81.31\n"
     ]
    },
    {
     "data": {
      "text/markdown": [
       "<br>**Dataset : set-24x24-RGB**"
      ],
      "text/plain": [
       "<IPython.core.display.Markdown object>"
      ]
     },
     "metadata": {},
     "output_type": "display_data"
    },
    {
     "name": "stdout",
     "output_type": "stream",
     "text": [
      "Datasets have been shuffled.\n",
      "Datasets have been resized with a factor  1\n",
      "    Run model model_v1  : \n",
      "          With Datagenerator: False\n",
      "Accuracy=  73.95    Duration=  57.10\n",
      "          With Datagenerator: True\n"
     ]
    },
    {
     "name": "stderr",
     "output_type": "stream",
     "text": [
      "2023-12-27 22:13:26.228953: I tensorflow/core/common_runtime/executor.cc:1197] [/device:CPU:0] (DEBUG INFO) Executor start aborting (this does not indicate an error and you can ignore this message): INVALID_ARGUMENT: You must feed a value for placeholder tensor 'Placeholder/_0' with dtype int32\n",
      "\t [[{{node Placeholder/_0}}]]\n"
     ]
    },
    {
     "name": "stdout",
     "output_type": "stream",
     "text": [
      "Accuracy=  79.04    Duration=  58.75\n",
      "          With Datagenerator: True\n"
     ]
    },
    {
     "name": "stderr",
     "output_type": "stream",
     "text": [
      "2023-12-27 22:14:24.983032: I tensorflow/core/common_runtime/executor.cc:1197] [/device:CPU:0] (DEBUG INFO) Executor start aborting (this does not indicate an error and you can ignore this message): INVALID_ARGUMENT: You must feed a value for placeholder tensor 'Placeholder/_0' with dtype int32\n",
      "\t [[{{node Placeholder/_0}}]]\n"
     ]
    },
    {
     "name": "stdout",
     "output_type": "stream",
     "text": [
      "Accuracy=  78.14    Duration=  62.76\n",
      "    Run model model_v2  : \n",
      "          With Datagenerator: False\n",
      "Accuracy=  73.35    Duration=  67.22\n",
      "          With Datagenerator: True\n"
     ]
    },
    {
     "name": "stderr",
     "output_type": "stream",
     "text": [
      "2023-12-27 22:16:34.999304: I tensorflow/core/common_runtime/executor.cc:1197] [/device:CPU:0] (DEBUG INFO) Executor start aborting (this does not indicate an error and you can ignore this message): INVALID_ARGUMENT: You must feed a value for placeholder tensor 'Placeholder/_0' with dtype int32\n",
      "\t [[{{node Placeholder/_0}}]]\n"
     ]
    },
    {
     "name": "stdout",
     "output_type": "stream",
     "text": [
      "Accuracy=  78.14    Duration=  77.95\n",
      "          With Datagenerator: True\n"
     ]
    },
    {
     "name": "stderr",
     "output_type": "stream",
     "text": [
      "2023-12-27 22:17:52.947806: I tensorflow/core/common_runtime/executor.cc:1197] [/device:CPU:0] (DEBUG INFO) Executor start aborting (this does not indicate an error and you can ignore this message): INVALID_ARGUMENT: You must feed a value for placeholder tensor 'Placeholder/_0' with dtype int32\n",
      "\t [[{{node Placeholder/_0}}]]\n"
     ]
    },
    {
     "name": "stdout",
     "output_type": "stream",
     "text": [
      "Accuracy=  79.04    Duration=  75.17\n",
      "    Run model model_v3  : \n",
      "          With Datagenerator: False\n",
      "Accuracy=  58.08    Duration=  89.09\n",
      "          With Datagenerator: True\n"
     ]
    },
    {
     "name": "stderr",
     "output_type": "stream",
     "text": [
      "2023-12-27 22:20:37.257501: I tensorflow/core/common_runtime/executor.cc:1197] [/device:CPU:0] (DEBUG INFO) Executor start aborting (this does not indicate an error and you can ignore this message): INVALID_ARGUMENT: You must feed a value for placeholder tensor 'Placeholder/_0' with dtype int32\n",
      "\t [[{{node Placeholder/_0}}]]\n"
     ]
    },
    {
     "name": "stdout",
     "output_type": "stream",
     "text": [
      "Accuracy=  69.76    Duration=  89.14\n",
      "          With Datagenerator: True\n"
     ]
    },
    {
     "name": "stderr",
     "output_type": "stream",
     "text": [
      "2023-12-27 22:22:06.401708: I tensorflow/core/common_runtime/executor.cc:1197] [/device:CPU:0] (DEBUG INFO) Executor start aborting (this does not indicate an error and you can ignore this message): INVALID_ARGUMENT: You must feed a value for placeholder tensor 'Placeholder/_0' with dtype int32\n",
      "\t [[{{node Placeholder/_0}}]]\n"
     ]
    },
    {
     "name": "stdout",
     "output_type": "stream",
     "text": [
      "Accuracy=  71.86    Duration=  91.92\n"
     ]
    },
    {
     "data": {
      "text/markdown": [
       "<br>**Dataset : set-48x48-L**"
      ],
      "text/plain": [
       "<IPython.core.display.Markdown object>"
      ]
     },
     "metadata": {},
     "output_type": "display_data"
    },
    {
     "name": "stdout",
     "output_type": "stream",
     "text": [
      "Datasets have been shuffled.\n",
      "Datasets have been resized with a factor  1\n",
      "    Run model model_v1  : \n",
      "          With Datagenerator: False\n",
      "Accuracy=  72.16    Duration= 202.36\n",
      "          With Datagenerator: True\n"
     ]
    },
    {
     "name": "stderr",
     "output_type": "stream",
     "text": [
      "2023-12-27 22:27:00.795094: I tensorflow/core/common_runtime/executor.cc:1197] [/device:CPU:0] (DEBUG INFO) Executor start aborting (this does not indicate an error and you can ignore this message): INVALID_ARGUMENT: You must feed a value for placeholder tensor 'Placeholder/_0' with dtype int32\n",
      "\t [[{{node Placeholder/_0}}]]\n"
     ]
    },
    {
     "name": "stdout",
     "output_type": "stream",
     "text": [
      "Accuracy=  77.84    Duration= 160.63\n",
      "          With Datagenerator: True\n"
     ]
    },
    {
     "name": "stderr",
     "output_type": "stream",
     "text": [
      "2023-12-27 22:29:41.422732: I tensorflow/core/common_runtime/executor.cc:1197] [/device:CPU:0] (DEBUG INFO) Executor start aborting (this does not indicate an error and you can ignore this message): INVALID_ARGUMENT: You must feed a value for placeholder tensor 'Placeholder/_0' with dtype int32\n",
      "\t [[{{node Placeholder/_0}}]]\n"
     ]
    },
    {
     "name": "stdout",
     "output_type": "stream",
     "text": [
      "Accuracy=  79.64    Duration= 159.37\n",
      "    Run model model_v2  : \n",
      "          With Datagenerator: False\n",
      "Accuracy=  70.96    Duration= 178.41\n",
      "          With Datagenerator: True\n"
     ]
    },
    {
     "name": "stderr",
     "output_type": "stream",
     "text": [
      "2023-12-27 22:35:19.255515: I tensorflow/core/common_runtime/executor.cc:1197] [/device:CPU:0] (DEBUG INFO) Executor start aborting (this does not indicate an error and you can ignore this message): INVALID_ARGUMENT: You must feed a value for placeholder tensor 'Placeholder/_0' with dtype int32\n",
      "\t [[{{node Placeholder/_0}}]]\n"
     ]
    },
    {
     "name": "stdout",
     "output_type": "stream",
     "text": [
      "Accuracy=  77.84    Duration= 183.12\n",
      "          With Datagenerator: True\n"
     ]
    },
    {
     "name": "stderr",
     "output_type": "stream",
     "text": [
      "2023-12-27 22:38:22.385118: I tensorflow/core/common_runtime/executor.cc:1197] [/device:CPU:0] (DEBUG INFO) Executor start aborting (this does not indicate an error and you can ignore this message): INVALID_ARGUMENT: You must feed a value for placeholder tensor 'Placeholder/_0' with dtype int32\n",
      "\t [[{{node Placeholder/_0}}]]\n"
     ]
    },
    {
     "name": "stdout",
     "output_type": "stream",
     "text": [
      "Accuracy=  76.95    Duration= 176.79\n",
      "    Run model model_v3  : \n",
      "          With Datagenerator: False\n",
      "Accuracy=  66.47    Duration= 204.01\n",
      "          With Datagenerator: True\n"
     ]
    },
    {
     "name": "stderr",
     "output_type": "stream",
     "text": [
      "2023-12-27 22:44:43.236018: I tensorflow/core/common_runtime/executor.cc:1197] [/device:CPU:0] (DEBUG INFO) Executor start aborting (this does not indicate an error and you can ignore this message): INVALID_ARGUMENT: You must feed a value for placeholder tensor 'Placeholder/_0' with dtype int32\n",
      "\t [[{{node Placeholder/_0}}]]\n"
     ]
    },
    {
     "name": "stdout",
     "output_type": "stream",
     "text": [
      "Accuracy=  75.15    Duration= 201.31\n",
      "          With Datagenerator: True\n"
     ]
    },
    {
     "name": "stderr",
     "output_type": "stream",
     "text": [
      "2023-12-27 22:48:04.542862: I tensorflow/core/common_runtime/executor.cc:1197] [/device:CPU:0] (DEBUG INFO) Executor start aborting (this does not indicate an error and you can ignore this message): INVALID_ARGUMENT: You must feed a value for placeholder tensor 'Placeholder/_0' with dtype int32\n",
      "\t [[{{node Placeholder/_0}}]]\n"
     ]
    },
    {
     "name": "stdout",
     "output_type": "stream",
     "text": [
      "Accuracy=  77.54    Duration= 200.95\n"
     ]
    },
    {
     "data": {
      "text/markdown": [
       "<br>**Dataset : set-48x48-RGB**"
      ],
      "text/plain": [
       "<IPython.core.display.Markdown object>"
      ]
     },
     "metadata": {},
     "output_type": "display_data"
    },
    {
     "name": "stdout",
     "output_type": "stream",
     "text": [
      "Datasets have been shuffled.\n",
      "Datasets have been resized with a factor  1\n",
      "    Run model model_v1  : \n",
      "          With Datagenerator: False\n",
      "Accuracy=  75.45    Duration= 161.16\n",
      "          With Datagenerator: True\n"
     ]
    },
    {
     "name": "stderr",
     "output_type": "stream",
     "text": [
      "2023-12-27 22:54:06.893509: I tensorflow/core/common_runtime/executor.cc:1197] [/device:CPU:0] (DEBUG INFO) Executor start aborting (this does not indicate an error and you can ignore this message): INVALID_ARGUMENT: You must feed a value for placeholder tensor 'Placeholder/_0' with dtype int32\n",
      "\t [[{{node Placeholder/_0}}]]\n"
     ]
    },
    {
     "name": "stdout",
     "output_type": "stream",
     "text": [
      "Accuracy=  82.04    Duration= 161.01\n",
      "          With Datagenerator: True\n"
     ]
    },
    {
     "name": "stderr",
     "output_type": "stream",
     "text": [
      "2023-12-27 22:56:47.906229: I tensorflow/core/common_runtime/executor.cc:1197] [/device:CPU:0] (DEBUG INFO) Executor start aborting (this does not indicate an error and you can ignore this message): INVALID_ARGUMENT: You must feed a value for placeholder tensor 'Placeholder/_0' with dtype int32\n",
      "\t [[{{node Placeholder/_0}}]]\n"
     ]
    },
    {
     "name": "stdout",
     "output_type": "stream",
     "text": [
      "Accuracy=  80.84    Duration= 166.70\n",
      "    Run model model_v2  : \n",
      "          With Datagenerator: False\n",
      "Accuracy=  73.65    Duration= 173.67\n",
      "          With Datagenerator: True\n"
     ]
    },
    {
     "name": "stderr",
     "output_type": "stream",
     "text": [
      "2023-12-27 23:02:28.352787: I tensorflow/core/common_runtime/executor.cc:1197] [/device:CPU:0] (DEBUG INFO) Executor start aborting (this does not indicate an error and you can ignore this message): INVALID_ARGUMENT: You must feed a value for placeholder tensor 'Placeholder/_0' with dtype int32\n",
      "\t [[{{node Placeholder/_0}}]]\n"
     ]
    },
    {
     "name": "stdout",
     "output_type": "stream",
     "text": [
      "Accuracy=  79.34    Duration= 181.94\n",
      "          With Datagenerator: True\n"
     ]
    },
    {
     "name": "stderr",
     "output_type": "stream",
     "text": [
      "2023-12-27 23:05:30.287412: I tensorflow/core/common_runtime/executor.cc:1197] [/device:CPU:0] (DEBUG INFO) Executor start aborting (this does not indicate an error and you can ignore this message): INVALID_ARGUMENT: You must feed a value for placeholder tensor 'Placeholder/_0' with dtype int32\n",
      "\t [[{{node Placeholder/_0}}]]\n"
     ]
    },
    {
     "name": "stdout",
     "output_type": "stream",
     "text": [
      "Accuracy=  79.94    Duration= 177.63\n",
      "    Run model model_v3  : \n",
      "          With Datagenerator: False\n",
      "Accuracy=  66.77    Duration= 204.41\n",
      "          With Datagenerator: True\n"
     ]
    },
    {
     "name": "stderr",
     "output_type": "stream",
     "text": [
      "2023-12-27 23:11:52.700231: I tensorflow/core/common_runtime/executor.cc:1197] [/device:CPU:0] (DEBUG INFO) Executor start aborting (this does not indicate an error and you can ignore this message): INVALID_ARGUMENT: You must feed a value for placeholder tensor 'Placeholder/_0' with dtype int32\n",
      "\t [[{{node Placeholder/_0}}]]\n"
     ]
    },
    {
     "name": "stdout",
     "output_type": "stream",
     "text": [
      "Accuracy=  75.45    Duration= 207.40\n",
      "          With Datagenerator: True\n"
     ]
    },
    {
     "name": "stderr",
     "output_type": "stream",
     "text": [
      "2023-12-27 23:15:20.100910: I tensorflow/core/common_runtime/executor.cc:1197] [/device:CPU:0] (DEBUG INFO) Executor start aborting (this does not indicate an error and you can ignore this message): INVALID_ARGUMENT: You must feed a value for placeholder tensor 'Placeholder/_0' with dtype int32\n",
      "\t [[{{node Placeholder/_0}}]]\n"
     ]
    },
    {
     "name": "stdout",
     "output_type": "stream",
     "text": [
      "Accuracy=  79.34    Duration= 216.74\n"
     ]
    },
    {
     "data": {
      "text/markdown": [
       "<br>**Dataset : set-48x48-RGB-HE**"
      ],
      "text/plain": [
       "<IPython.core.display.Markdown object>"
      ]
     },
     "metadata": {},
     "output_type": "display_data"
    },
    {
     "name": "stdout",
     "output_type": "stream",
     "text": [
      "Datasets have been shuffled.\n",
      "Datasets have been resized with a factor  1\n",
      "    Run model model_v1  : \n",
      "          With Datagenerator: False\n",
      "Accuracy=  71.56    Duration= 157.55\n",
      "          With Datagenerator: True\n"
     ]
    },
    {
     "name": "stderr",
     "output_type": "stream",
     "text": [
      "2023-12-27 23:21:34.583042: I tensorflow/core/common_runtime/executor.cc:1197] [/device:CPU:0] (DEBUG INFO) Executor start aborting (this does not indicate an error and you can ignore this message): INVALID_ARGUMENT: You must feed a value for placeholder tensor 'Placeholder/_0' with dtype int32\n",
      "\t [[{{node Placeholder/_0}}]]\n"
     ]
    },
    {
     "name": "stdout",
     "output_type": "stream",
     "text": [
      "Accuracy=  78.14    Duration= 173.46\n",
      "          With Datagenerator: True\n"
     ]
    },
    {
     "name": "stderr",
     "output_type": "stream",
     "text": [
      "2023-12-27 23:24:28.054858: I tensorflow/core/common_runtime/executor.cc:1197] [/device:CPU:0] (DEBUG INFO) Executor start aborting (this does not indicate an error and you can ignore this message): INVALID_ARGUMENT: You must feed a value for placeholder tensor 'Placeholder/_0' with dtype int32\n",
      "\t [[{{node Placeholder/_0}}]]\n"
     ]
    },
    {
     "name": "stdout",
     "output_type": "stream",
     "text": [
      "Accuracy=  77.54    Duration= 167.85\n",
      "    Run model model_v2  : \n",
      "          With Datagenerator: False\n",
      "Accuracy=  70.36    Duration= 191.84\n",
      "          With Datagenerator: True\n"
     ]
    },
    {
     "name": "stderr",
     "output_type": "stream",
     "text": [
      "2023-12-27 23:30:27.809705: I tensorflow/core/common_runtime/executor.cc:1197] [/device:CPU:0] (DEBUG INFO) Executor start aborting (this does not indicate an error and you can ignore this message): INVALID_ARGUMENT: You must feed a value for placeholder tensor 'Placeholder/_0' with dtype int32\n",
      "\t [[{{node Placeholder/_0}}]]\n"
     ]
    },
    {
     "name": "stdout",
     "output_type": "stream",
     "text": [
      "Accuracy=  75.15    Duration= 196.16\n",
      "          With Datagenerator: True\n"
     ]
    },
    {
     "name": "stderr",
     "output_type": "stream",
     "text": [
      "2023-12-27 23:33:43.965945: I tensorflow/core/common_runtime/executor.cc:1197] [/device:CPU:0] (DEBUG INFO) Executor start aborting (this does not indicate an error and you can ignore this message): INVALID_ARGUMENT: You must feed a value for placeholder tensor 'Placeholder/_0' with dtype int32\n",
      "\t [[{{node Placeholder/_0}}]]\n"
     ]
    },
    {
     "name": "stdout",
     "output_type": "stream",
     "text": [
      "Accuracy=  76.05    Duration= 189.26\n",
      "    Run model model_v3  : \n",
      "          With Datagenerator: False\n",
      "Accuracy=  63.47    Duration= 207.67\n",
      "          With Datagenerator: True\n"
     ]
    },
    {
     "name": "stderr",
     "output_type": "stream",
     "text": [
      "2023-12-27 23:40:20.938975: I tensorflow/core/common_runtime/executor.cc:1197] [/device:CPU:0] (DEBUG INFO) Executor start aborting (this does not indicate an error and you can ignore this message): INVALID_ARGUMENT: You must feed a value for placeholder tensor 'Placeholder/_0' with dtype int32\n",
      "\t [[{{node Placeholder/_0}}]]\n"
     ]
    },
    {
     "name": "stdout",
     "output_type": "stream",
     "text": [
      "Accuracy=  72.75    Duration= 204.86\n",
      "          With Datagenerator: True\n"
     ]
    },
    {
     "name": "stderr",
     "output_type": "stream",
     "text": [
      "2023-12-27 23:43:45.804873: I tensorflow/core/common_runtime/executor.cc:1197] [/device:CPU:0] (DEBUG INFO) Executor start aborting (this does not indicate an error and you can ignore this message): INVALID_ARGUMENT: You must feed a value for placeholder tensor 'Placeholder/_0' with dtype int32\n",
      "\t [[{{node Placeholder/_0}}]]\n"
     ]
    },
    {
     "name": "stdout",
     "output_type": "stream",
     "text": [
      "Accuracy=  73.35    Duration= 202.26\n",
      "\n",
      "Report saved as  ./proto-exp-1-scale-out/report_079698.csv\n",
      "\n",
      "Metadata saved as  ./proto-exp-1-scale-out/metadata_079698.csv\n",
      "Duration :  7501.41 seconds\n",
      "--------------------------------------------------\n"
     ]
    }
   ],
   "source": [
    "chrono=fidle.Chrono()\n",
    "chrono.start()\n",
    "\n",
    "print('\\n---- Run','-'*30)\n",
    "\n",
    "csv_report_output,csv_metadtat_output = experimental_protocol_multi_run(enhanced_dir,\n",
    "                                                                        run_dir,\n",
    "                                                                        datasets,\n",
    "                                                                        models,\n",
    "                                                                        data_generators,\n",
    "                                                                        scale,\n",
    "                                                                        batch_size,\n",
    "                                                                        epochs,\n",
    "                                                                        fit_verbosity,\n",
    "                                                                        tag_id,\n",
    "                                                                        )\n",
    "\n",
    "\n",
    "# ---- Save report\n",
    "\n",
    "report_name=f'{run_dir}/report_{tag_id}.csv'\n",
    "metadata_name=f'{run_dir}/metadata_{tag_id}.csv'\n",
    "\n",
    "with open(report_name, 'w') as file:\n",
    "    file.write(csv_report_output)\n",
    "\n",
    "with open(metadata_name,'w') as file:\n",
    "    file.write(csv_metadtat_output)\n",
    "\n",
    "print('\\nReport saved as ',report_name)\n",
    "print('\\nMetadata saved as ', metadata_name)\n",
    "\n",
    "chrono.show()\n",
    "print('-'*50)\n"
   ]
  },
  {
   "cell_type": "code",
   "execution_count": 78,
   "metadata": {},
   "outputs": [
    {
     "data": {
      "text/html": [
       "<div>\n",
       "<style scoped>\n",
       "    .dataframe tbody tr th:only-of-type {\n",
       "        vertical-align: middle;\n",
       "    }\n",
       "\n",
       "    .dataframe tbody tr th {\n",
       "        vertical-align: top;\n",
       "    }\n",
       "\n",
       "    .dataframe thead th {\n",
       "        text-align: right;\n",
       "    }\n",
       "</style>\n",
       "<table border=\"1\" class=\"dataframe\">\n",
       "  <thead>\n",
       "    <tr style=\"text-align: right;\">\n",
       "      <th></th>\n",
       "      <th>Dataset</th>\n",
       "      <th>DatasetSize</th>\n",
       "      <th>Model</th>\n",
       "      <th>Datagen</th>\n",
       "      <th>Duration</th>\n",
       "      <th>Accuracy</th>\n",
       "    </tr>\n",
       "  </thead>\n",
       "  <tbody>\n",
       "    <tr>\n",
       "      <th>0</th>\n",
       "      <td>set-24x24-L-LHE</td>\n",
       "      <td>7.341827</td>\n",
       "      <td>model_v1</td>\n",
       "      <td>none</td>\n",
       "      <td>59.205537</td>\n",
       "      <td>68.862277</td>\n",
       "    </tr>\n",
       "    <tr>\n",
       "      <th>1</th>\n",
       "      <td>set-24x24-L-LHE</td>\n",
       "      <td>7.341827</td>\n",
       "      <td>model_v1</td>\n",
       "      <td>generator_v1</td>\n",
       "      <td>60.687897</td>\n",
       "      <td>72.155690</td>\n",
       "    </tr>\n",
       "    <tr>\n",
       "      <th>2</th>\n",
       "      <td>set-24x24-L-LHE</td>\n",
       "      <td>7.341827</td>\n",
       "      <td>model_v1</td>\n",
       "      <td>generator_v2</td>\n",
       "      <td>1227.575542</td>\n",
       "      <td>72.455090</td>\n",
       "    </tr>\n",
       "    <tr>\n",
       "      <th>3</th>\n",
       "      <td>set-24x24-L-LHE</td>\n",
       "      <td>7.341827</td>\n",
       "      <td>model_v2</td>\n",
       "      <td>none</td>\n",
       "      <td>68.514913</td>\n",
       "      <td>70.359284</td>\n",
       "    </tr>\n",
       "    <tr>\n",
       "      <th>4</th>\n",
       "      <td>set-24x24-L-LHE</td>\n",
       "      <td>7.341827</td>\n",
       "      <td>model_v2</td>\n",
       "      <td>generator_v1</td>\n",
       "      <td>72.608461</td>\n",
       "      <td>73.652697</td>\n",
       "    </tr>\n",
       "    <tr>\n",
       "      <th>5</th>\n",
       "      <td>set-24x24-L-LHE</td>\n",
       "      <td>7.341827</td>\n",
       "      <td>model_v2</td>\n",
       "      <td>generator_v2</td>\n",
       "      <td>76.406427</td>\n",
       "      <td>71.856290</td>\n",
       "    </tr>\n",
       "    <tr>\n",
       "      <th>6</th>\n",
       "      <td>set-24x24-L-LHE</td>\n",
       "      <td>7.341827</td>\n",
       "      <td>model_v3</td>\n",
       "      <td>none</td>\n",
       "      <td>88.987368</td>\n",
       "      <td>64.670658</td>\n",
       "    </tr>\n",
       "    <tr>\n",
       "      <th>7</th>\n",
       "      <td>set-24x24-L-LHE</td>\n",
       "      <td>7.341827</td>\n",
       "      <td>model_v3</td>\n",
       "      <td>generator_v1</td>\n",
       "      <td>86.990403</td>\n",
       "      <td>68.562877</td>\n",
       "    </tr>\n",
       "    <tr>\n",
       "      <th>8</th>\n",
       "      <td>set-24x24-L-LHE</td>\n",
       "      <td>7.341827</td>\n",
       "      <td>model_v3</td>\n",
       "      <td>generator_v2</td>\n",
       "      <td>81.306295</td>\n",
       "      <td>70.359284</td>\n",
       "    </tr>\n",
       "    <tr>\n",
       "      <th>9</th>\n",
       "      <td>set-24x24-RGB</td>\n",
       "      <td>21.984406</td>\n",
       "      <td>model_v1</td>\n",
       "      <td>none</td>\n",
       "      <td>57.100912</td>\n",
       "      <td>73.952097</td>\n",
       "    </tr>\n",
       "    <tr>\n",
       "      <th>10</th>\n",
       "      <td>set-24x24-RGB</td>\n",
       "      <td>21.984406</td>\n",
       "      <td>model_v1</td>\n",
       "      <td>generator_v1</td>\n",
       "      <td>58.751402</td>\n",
       "      <td>79.041916</td>\n",
       "    </tr>\n",
       "    <tr>\n",
       "      <th>11</th>\n",
       "      <td>set-24x24-RGB</td>\n",
       "      <td>21.984406</td>\n",
       "      <td>model_v1</td>\n",
       "      <td>generator_v2</td>\n",
       "      <td>62.758004</td>\n",
       "      <td>78.143710</td>\n",
       "    </tr>\n",
       "    <tr>\n",
       "      <th>12</th>\n",
       "      <td>set-24x24-RGB</td>\n",
       "      <td>21.984406</td>\n",
       "      <td>model_v2</td>\n",
       "      <td>none</td>\n",
       "      <td>67.224905</td>\n",
       "      <td>73.353291</td>\n",
       "    </tr>\n",
       "    <tr>\n",
       "      <th>13</th>\n",
       "      <td>set-24x24-RGB</td>\n",
       "      <td>21.984406</td>\n",
       "      <td>model_v2</td>\n",
       "      <td>generator_v1</td>\n",
       "      <td>77.948421</td>\n",
       "      <td>78.143710</td>\n",
       "    </tr>\n",
       "    <tr>\n",
       "      <th>14</th>\n",
       "      <td>set-24x24-RGB</td>\n",
       "      <td>21.984406</td>\n",
       "      <td>model_v2</td>\n",
       "      <td>generator_v2</td>\n",
       "      <td>75.170601</td>\n",
       "      <td>79.041916</td>\n",
       "    </tr>\n",
       "    <tr>\n",
       "      <th>15</th>\n",
       "      <td>set-24x24-RGB</td>\n",
       "      <td>21.984406</td>\n",
       "      <td>model_v3</td>\n",
       "      <td>none</td>\n",
       "      <td>89.085841</td>\n",
       "      <td>58.083832</td>\n",
       "    </tr>\n",
       "    <tr>\n",
       "      <th>16</th>\n",
       "      <td>set-24x24-RGB</td>\n",
       "      <td>21.984406</td>\n",
       "      <td>model_v3</td>\n",
       "      <td>generator_v1</td>\n",
       "      <td>89.141974</td>\n",
       "      <td>69.760478</td>\n",
       "    </tr>\n",
       "    <tr>\n",
       "      <th>17</th>\n",
       "      <td>set-24x24-RGB</td>\n",
       "      <td>21.984406</td>\n",
       "      <td>model_v3</td>\n",
       "      <td>generator_v2</td>\n",
       "      <td>91.916154</td>\n",
       "      <td>71.856290</td>\n",
       "    </tr>\n",
       "    <tr>\n",
       "      <th>18</th>\n",
       "      <td>set-48x48-L</td>\n",
       "      <td>29.305695</td>\n",
       "      <td>model_v1</td>\n",
       "      <td>none</td>\n",
       "      <td>202.363285</td>\n",
       "      <td>72.155690</td>\n",
       "    </tr>\n",
       "    <tr>\n",
       "      <th>19</th>\n",
       "      <td>set-48x48-L</td>\n",
       "      <td>29.305695</td>\n",
       "      <td>model_v1</td>\n",
       "      <td>generator_v1</td>\n",
       "      <td>160.629947</td>\n",
       "      <td>77.844310</td>\n",
       "    </tr>\n",
       "    <tr>\n",
       "      <th>20</th>\n",
       "      <td>set-48x48-L</td>\n",
       "      <td>29.305695</td>\n",
       "      <td>model_v1</td>\n",
       "      <td>generator_v2</td>\n",
       "      <td>159.367326</td>\n",
       "      <td>79.640716</td>\n",
       "    </tr>\n",
       "    <tr>\n",
       "      <th>21</th>\n",
       "      <td>set-48x48-L</td>\n",
       "      <td>29.305695</td>\n",
       "      <td>model_v2</td>\n",
       "      <td>none</td>\n",
       "      <td>178.405525</td>\n",
       "      <td>70.958084</td>\n",
       "    </tr>\n",
       "    <tr>\n",
       "      <th>22</th>\n",
       "      <td>set-48x48-L</td>\n",
       "      <td>29.305695</td>\n",
       "      <td>model_v2</td>\n",
       "      <td>generator_v1</td>\n",
       "      <td>183.123963</td>\n",
       "      <td>77.844310</td>\n",
       "    </tr>\n",
       "    <tr>\n",
       "      <th>23</th>\n",
       "      <td>set-48x48-L</td>\n",
       "      <td>29.305695</td>\n",
       "      <td>model_v2</td>\n",
       "      <td>generator_v2</td>\n",
       "      <td>176.789216</td>\n",
       "      <td>76.946110</td>\n",
       "    </tr>\n",
       "    <tr>\n",
       "      <th>24</th>\n",
       "      <td>set-48x48-L</td>\n",
       "      <td>29.305695</td>\n",
       "      <td>model_v3</td>\n",
       "      <td>none</td>\n",
       "      <td>204.010438</td>\n",
       "      <td>66.467065</td>\n",
       "    </tr>\n",
       "    <tr>\n",
       "      <th>25</th>\n",
       "      <td>set-48x48-L</td>\n",
       "      <td>29.305695</td>\n",
       "      <td>model_v3</td>\n",
       "      <td>generator_v1</td>\n",
       "      <td>201.305293</td>\n",
       "      <td>75.149703</td>\n",
       "    </tr>\n",
       "    <tr>\n",
       "      <th>26</th>\n",
       "      <td>set-48x48-L</td>\n",
       "      <td>29.305695</td>\n",
       "      <td>model_v3</td>\n",
       "      <td>generator_v2</td>\n",
       "      <td>200.948354</td>\n",
       "      <td>77.544910</td>\n",
       "    </tr>\n",
       "    <tr>\n",
       "      <th>27</th>\n",
       "      <td>set-48x48-RGB</td>\n",
       "      <td>87.876007</td>\n",
       "      <td>model_v1</td>\n",
       "      <td>none</td>\n",
       "      <td>161.164087</td>\n",
       "      <td>75.449103</td>\n",
       "    </tr>\n",
       "    <tr>\n",
       "      <th>28</th>\n",
       "      <td>set-48x48-RGB</td>\n",
       "      <td>87.876007</td>\n",
       "      <td>model_v1</td>\n",
       "      <td>generator_v1</td>\n",
       "      <td>161.013065</td>\n",
       "      <td>82.035929</td>\n",
       "    </tr>\n",
       "    <tr>\n",
       "      <th>29</th>\n",
       "      <td>set-48x48-RGB</td>\n",
       "      <td>87.876007</td>\n",
       "      <td>model_v1</td>\n",
       "      <td>generator_v2</td>\n",
       "      <td>166.704486</td>\n",
       "      <td>80.838323</td>\n",
       "    </tr>\n",
       "    <tr>\n",
       "      <th>30</th>\n",
       "      <td>set-48x48-RGB</td>\n",
       "      <td>87.876007</td>\n",
       "      <td>model_v2</td>\n",
       "      <td>none</td>\n",
       "      <td>173.669242</td>\n",
       "      <td>73.652697</td>\n",
       "    </tr>\n",
       "    <tr>\n",
       "      <th>31</th>\n",
       "      <td>set-48x48-RGB</td>\n",
       "      <td>87.876007</td>\n",
       "      <td>model_v2</td>\n",
       "      <td>generator_v1</td>\n",
       "      <td>181.940956</td>\n",
       "      <td>79.341316</td>\n",
       "    </tr>\n",
       "    <tr>\n",
       "      <th>32</th>\n",
       "      <td>set-48x48-RGB</td>\n",
       "      <td>87.876007</td>\n",
       "      <td>model_v2</td>\n",
       "      <td>generator_v2</td>\n",
       "      <td>177.632962</td>\n",
       "      <td>79.940122</td>\n",
       "    </tr>\n",
       "    <tr>\n",
       "      <th>33</th>\n",
       "      <td>set-48x48-RGB</td>\n",
       "      <td>87.876007</td>\n",
       "      <td>model_v3</td>\n",
       "      <td>none</td>\n",
       "      <td>204.414682</td>\n",
       "      <td>66.766465</td>\n",
       "    </tr>\n",
       "    <tr>\n",
       "      <th>34</th>\n",
       "      <td>set-48x48-RGB</td>\n",
       "      <td>87.876007</td>\n",
       "      <td>model_v3</td>\n",
       "      <td>generator_v1</td>\n",
       "      <td>207.402108</td>\n",
       "      <td>75.449103</td>\n",
       "    </tr>\n",
       "    <tr>\n",
       "      <th>35</th>\n",
       "      <td>set-48x48-RGB</td>\n",
       "      <td>87.876007</td>\n",
       "      <td>model_v3</td>\n",
       "      <td>generator_v2</td>\n",
       "      <td>216.735530</td>\n",
       "      <td>79.341316</td>\n",
       "    </tr>\n",
       "    <tr>\n",
       "      <th>36</th>\n",
       "      <td>set-48x48-RGB-HE</td>\n",
       "      <td>87.876007</td>\n",
       "      <td>model_v1</td>\n",
       "      <td>none</td>\n",
       "      <td>157.547706</td>\n",
       "      <td>71.556884</td>\n",
       "    </tr>\n",
       "    <tr>\n",
       "      <th>37</th>\n",
       "      <td>set-48x48-RGB-HE</td>\n",
       "      <td>87.876007</td>\n",
       "      <td>model_v1</td>\n",
       "      <td>generator_v1</td>\n",
       "      <td>173.464235</td>\n",
       "      <td>78.143710</td>\n",
       "    </tr>\n",
       "    <tr>\n",
       "      <th>38</th>\n",
       "      <td>set-48x48-RGB-HE</td>\n",
       "      <td>87.876007</td>\n",
       "      <td>model_v1</td>\n",
       "      <td>generator_v2</td>\n",
       "      <td>167.849490</td>\n",
       "      <td>77.544910</td>\n",
       "    </tr>\n",
       "    <tr>\n",
       "      <th>39</th>\n",
       "      <td>set-48x48-RGB-HE</td>\n",
       "      <td>87.876007</td>\n",
       "      <td>model_v2</td>\n",
       "      <td>none</td>\n",
       "      <td>191.841389</td>\n",
       "      <td>70.359284</td>\n",
       "    </tr>\n",
       "    <tr>\n",
       "      <th>40</th>\n",
       "      <td>set-48x48-RGB-HE</td>\n",
       "      <td>87.876007</td>\n",
       "      <td>model_v2</td>\n",
       "      <td>generator_v1</td>\n",
       "      <td>196.159956</td>\n",
       "      <td>75.149703</td>\n",
       "    </tr>\n",
       "    <tr>\n",
       "      <th>41</th>\n",
       "      <td>set-48x48-RGB-HE</td>\n",
       "      <td>87.876007</td>\n",
       "      <td>model_v2</td>\n",
       "      <td>generator_v2</td>\n",
       "      <td>189.261710</td>\n",
       "      <td>76.047903</td>\n",
       "    </tr>\n",
       "    <tr>\n",
       "      <th>42</th>\n",
       "      <td>set-48x48-RGB-HE</td>\n",
       "      <td>87.876007</td>\n",
       "      <td>model_v3</td>\n",
       "      <td>none</td>\n",
       "      <td>207.667953</td>\n",
       "      <td>63.473052</td>\n",
       "    </tr>\n",
       "    <tr>\n",
       "      <th>43</th>\n",
       "      <td>set-48x48-RGB-HE</td>\n",
       "      <td>87.876007</td>\n",
       "      <td>model_v3</td>\n",
       "      <td>generator_v1</td>\n",
       "      <td>204.862912</td>\n",
       "      <td>72.754490</td>\n",
       "    </tr>\n",
       "    <tr>\n",
       "      <th>44</th>\n",
       "      <td>set-48x48-RGB-HE</td>\n",
       "      <td>87.876007</td>\n",
       "      <td>model_v3</td>\n",
       "      <td>generator_v2</td>\n",
       "      <td>202.264892</td>\n",
       "      <td>73.353291</td>\n",
       "    </tr>\n",
       "  </tbody>\n",
       "</table>\n",
       "</div>"
      ],
      "text/plain": [
       "             Dataset  DatasetSize     Model       Datagen     Duration  \\\n",
       "0    set-24x24-L-LHE     7.341827  model_v1          none    59.205537   \n",
       "1    set-24x24-L-LHE     7.341827  model_v1  generator_v1    60.687897   \n",
       "2    set-24x24-L-LHE     7.341827  model_v1  generator_v2  1227.575542   \n",
       "3    set-24x24-L-LHE     7.341827  model_v2          none    68.514913   \n",
       "4    set-24x24-L-LHE     7.341827  model_v2  generator_v1    72.608461   \n",
       "5    set-24x24-L-LHE     7.341827  model_v2  generator_v2    76.406427   \n",
       "6    set-24x24-L-LHE     7.341827  model_v3          none    88.987368   \n",
       "7    set-24x24-L-LHE     7.341827  model_v3  generator_v1    86.990403   \n",
       "8    set-24x24-L-LHE     7.341827  model_v3  generator_v2    81.306295   \n",
       "9      set-24x24-RGB    21.984406  model_v1          none    57.100912   \n",
       "10     set-24x24-RGB    21.984406  model_v1  generator_v1    58.751402   \n",
       "11     set-24x24-RGB    21.984406  model_v1  generator_v2    62.758004   \n",
       "12     set-24x24-RGB    21.984406  model_v2          none    67.224905   \n",
       "13     set-24x24-RGB    21.984406  model_v2  generator_v1    77.948421   \n",
       "14     set-24x24-RGB    21.984406  model_v2  generator_v2    75.170601   \n",
       "15     set-24x24-RGB    21.984406  model_v3          none    89.085841   \n",
       "16     set-24x24-RGB    21.984406  model_v3  generator_v1    89.141974   \n",
       "17     set-24x24-RGB    21.984406  model_v3  generator_v2    91.916154   \n",
       "18       set-48x48-L    29.305695  model_v1          none   202.363285   \n",
       "19       set-48x48-L    29.305695  model_v1  generator_v1   160.629947   \n",
       "20       set-48x48-L    29.305695  model_v1  generator_v2   159.367326   \n",
       "21       set-48x48-L    29.305695  model_v2          none   178.405525   \n",
       "22       set-48x48-L    29.305695  model_v2  generator_v1   183.123963   \n",
       "23       set-48x48-L    29.305695  model_v2  generator_v2   176.789216   \n",
       "24       set-48x48-L    29.305695  model_v3          none   204.010438   \n",
       "25       set-48x48-L    29.305695  model_v3  generator_v1   201.305293   \n",
       "26       set-48x48-L    29.305695  model_v3  generator_v2   200.948354   \n",
       "27     set-48x48-RGB    87.876007  model_v1          none   161.164087   \n",
       "28     set-48x48-RGB    87.876007  model_v1  generator_v1   161.013065   \n",
       "29     set-48x48-RGB    87.876007  model_v1  generator_v2   166.704486   \n",
       "30     set-48x48-RGB    87.876007  model_v2          none   173.669242   \n",
       "31     set-48x48-RGB    87.876007  model_v2  generator_v1   181.940956   \n",
       "32     set-48x48-RGB    87.876007  model_v2  generator_v2   177.632962   \n",
       "33     set-48x48-RGB    87.876007  model_v3          none   204.414682   \n",
       "34     set-48x48-RGB    87.876007  model_v3  generator_v1   207.402108   \n",
       "35     set-48x48-RGB    87.876007  model_v3  generator_v2   216.735530   \n",
       "36  set-48x48-RGB-HE    87.876007  model_v1          none   157.547706   \n",
       "37  set-48x48-RGB-HE    87.876007  model_v1  generator_v1   173.464235   \n",
       "38  set-48x48-RGB-HE    87.876007  model_v1  generator_v2   167.849490   \n",
       "39  set-48x48-RGB-HE    87.876007  model_v2          none   191.841389   \n",
       "40  set-48x48-RGB-HE    87.876007  model_v2  generator_v1   196.159956   \n",
       "41  set-48x48-RGB-HE    87.876007  model_v2  generator_v2   189.261710   \n",
       "42  set-48x48-RGB-HE    87.876007  model_v3          none   207.667953   \n",
       "43  set-48x48-RGB-HE    87.876007  model_v3  generator_v1   204.862912   \n",
       "44  set-48x48-RGB-HE    87.876007  model_v3  generator_v2   202.264892   \n",
       "\n",
       "     Accuracy  \n",
       "0   68.862277  \n",
       "1   72.155690  \n",
       "2   72.455090  \n",
       "3   70.359284  \n",
       "4   73.652697  \n",
       "5   71.856290  \n",
       "6   64.670658  \n",
       "7   68.562877  \n",
       "8   70.359284  \n",
       "9   73.952097  \n",
       "10  79.041916  \n",
       "11  78.143710  \n",
       "12  73.353291  \n",
       "13  78.143710  \n",
       "14  79.041916  \n",
       "15  58.083832  \n",
       "16  69.760478  \n",
       "17  71.856290  \n",
       "18  72.155690  \n",
       "19  77.844310  \n",
       "20  79.640716  \n",
       "21  70.958084  \n",
       "22  77.844310  \n",
       "23  76.946110  \n",
       "24  66.467065  \n",
       "25  75.149703  \n",
       "26  77.544910  \n",
       "27  75.449103  \n",
       "28  82.035929  \n",
       "29  80.838323  \n",
       "30  73.652697  \n",
       "31  79.341316  \n",
       "32  79.940122  \n",
       "33  66.766465  \n",
       "34  75.449103  \n",
       "35  79.341316  \n",
       "36  71.556884  \n",
       "37  78.143710  \n",
       "38  77.544910  \n",
       "39  70.359284  \n",
       "40  75.149703  \n",
       "41  76.047903  \n",
       "42  63.473052  \n",
       "43  72.754490  \n",
       "44  73.353291  "
      ]
     },
     "execution_count": 78,
     "metadata": {},
     "output_type": "execute_result"
    }
   ],
   "source": [
    "report = pd.read_csv(report_name)\n",
    "report.head(100)"
   ]
  },
  {
   "cell_type": "code",
   "execution_count": null,
   "metadata": {},
   "outputs": [],
   "source": [
    "report[report[\"Accuracy\"] >= report[\"Accuracy\"].max()]"
   ]
  }
 ],
 "metadata": {
  "kernelspec": {
   "display_name": "tf",
   "language": "python",
   "name": "python3"
  },
  "language_info": {
   "codemirror_mode": {
    "name": "ipython",
    "version": 3
   },
   "file_extension": ".py",
   "mimetype": "text/x-python",
   "name": "python",
   "nbconvert_exporter": "python",
   "pygments_lexer": "ipython3",
   "version": "3.11.5"
  }
 },
 "nbformat": 4,
 "nbformat_minor": 2
}
