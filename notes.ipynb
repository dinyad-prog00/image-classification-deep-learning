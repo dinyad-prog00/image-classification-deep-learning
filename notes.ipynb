{
 "cells": [
  {
   "cell_type": "markdown",
   "metadata": {},
   "source": [
    "  ```jupyter nbconvert --ExecutePreprocessor.timeout=-1 --to notebook --execute my_notebook.ipynb'```  "
   ]
  },
  {
   "cell_type": "markdown",
   "metadata": {},
   "source": [
    " ```jupyter nbconvert --to script <notebook>```  \n",
    "  ```ipython <script>```"
   ]
  }
 ],
 "metadata": {
  "language_info": {
   "name": "python"
  }
 },
 "nbformat": 4,
 "nbformat_minor": 2
}
