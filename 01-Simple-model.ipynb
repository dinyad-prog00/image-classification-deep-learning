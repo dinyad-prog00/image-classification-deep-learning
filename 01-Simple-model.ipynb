{
 "cells": [
  {
   "cell_type": "code",
   "execution_count": 15,
   "id": "be18670f-8c86-405a-8bb7-782f7e9b5e9b",
   "metadata": {},
   "outputs": [],
   "source": [
    "import tensorflow as tf\n",
    "from tensorflow import keras\n",
    "\n",
    "import numpy as np\n",
    "import matplotlib.pyplot as plt\n",
    "import h5py\n",
    "import os,time,sys\n",
    "\n",
    "from importlib import reload\n",
    "import fidle\n",
    "\n",
    "from myutils.dataset import  read_dataset\n",
    "from myutils.models import get_model_v1"
   ]
  },
  {
   "cell_type": "code",
   "execution_count": 29,
   "id": "9f8cc8cd-931b-4b80-a211-a8cbbde30f0b",
   "metadata": {},
   "outputs": [],
   "source": [
    "enhanced_dir = './data'\n",
    "\n",
    "dataset_name  = 'set-24x24-L'\n",
    "batch_size    = 64\n",
    "epochs        = 10\n",
    "scale         = 1\n",
    "fit_verbosity = 1"
   ]
  },
  {
   "cell_type": "code",
   "execution_count": 28,
   "id": "75764fcd-0e8f-499e-b676-b7334b0bb500",
   "metadata": {},
   "outputs": [
    {
     "name": "stdout",
     "output_type": "stream",
     "text": [
      "(932, 24, 24, 1) (932,)\n",
      "Datasets have been shuffled.\n",
      "Datasets have been resized with a factor  1\n"
     ]
    }
   ],
   "source": [
    "x_train,y_train,x_test,y_test = read_dataset(enhanced_dir, dataset_name)\n",
    "x_train,y_train, x_test,y_test = fidle.utils.rescale_dataset(x_train,y_train,x_test,y_test, scale=scale)"
   ]
  },
  {
   "cell_type": "code",
   "execution_count": 21,
   "id": "36e2ea32-ee97-46f7-bfd1-1d1426119dd7",
   "metadata": {},
   "outputs": [],
   "source": [
    "def get_model_v1(lx,ly,lz):\n",
    "    \n",
    "    model = keras.models.Sequential()\n",
    "    \n",
    "    model.add( keras.layers.Conv2D(96, (3,3), activation='relu', input_shape=(lx,ly,lz)))\n",
    "    model.add( keras.layers.MaxPooling2D((2, 2)))\n",
    "    model.add( keras.layers.Dropout(0.2))\n",
    "\n",
    "    model.add( keras.layers.Conv2D(192, (3, 3), activation='relu'))\n",
    "    model.add( keras.layers.MaxPooling2D((2, 2)))\n",
    "    model.add( keras.layers.Dropout(0.2))\n",
    "\n",
    "    model.add( keras.layers.Flatten()) \n",
    "    model.add( keras.layers.Dense(1500, activation='relu'))\n",
    "    model.add( keras.layers.Dropout(0.5))\n",
    "\n",
    "    model.add( keras.layers.Dense(43, activation='softmax'))\n",
    "    return model"
   ]
  },
  {
   "cell_type": "code",
   "execution_count": 22,
   "id": "4b3eac01-4939-45e3-8a75-d5fd8dad10aa",
   "metadata": {},
   "outputs": [
    {
     "name": "stdout",
     "output_type": "stream",
     "text": [
      "Images of the dataset have this folowing shape :  (24, 24, 1)\n",
      "Model: \"sequential_1\"\n",
      "_________________________________________________________________\n",
      " Layer (type)                Output Shape              Param #   \n",
      "=================================================================\n",
      " conv2d_2 (Conv2D)           (None, 22, 22, 96)        960       \n",
      "                                                                 \n",
      " max_pooling2d_2 (MaxPooling  (None, 11, 11, 96)       0         \n",
      " 2D)                                                             \n",
      "                                                                 \n",
      " dropout_3 (Dropout)         (None, 11, 11, 96)        0         \n",
      "                                                                 \n",
      " conv2d_3 (Conv2D)           (None, 9, 9, 192)         166080    \n",
      "                                                                 \n",
      " max_pooling2d_3 (MaxPooling  (None, 4, 4, 192)        0         \n",
      " 2D)                                                             \n",
      "                                                                 \n",
      " dropout_4 (Dropout)         (None, 4, 4, 192)         0         \n",
      "                                                                 \n",
      " flatten_1 (Flatten)         (None, 3072)              0         \n",
      "                                                                 \n",
      " dense_2 (Dense)             (None, 1500)              4609500   \n",
      "                                                                 \n",
      " dropout_5 (Dropout)         (None, 1500)              0         \n",
      "                                                                 \n",
      " dense_3 (Dense)             (None, 43)                64543     \n",
      "                                                                 \n",
      "=================================================================\n",
      "Total params: 4,841,083\n",
      "Trainable params: 4,841,083\n",
      "Non-trainable params: 0\n",
      "_________________________________________________________________\n"
     ]
    }
   ],
   "source": [
    "(n,lx,ly,lz) = x_train.shape\n",
    "print(\"Images of the dataset have this folowing shape : \",(lx,ly,lz))\n",
    "\n",
    "model = get_model_v1(lx,ly,lz)\n",
    "\n",
    "model.summary()\n",
    "\n",
    "model.compile(optimizer = 'adam',\n",
    "              loss      = 'sparse_categorical_crossentropy',\n",
    "              metrics   = ['accuracy'])\n"
   ]
  },
  {
   "cell_type": "code",
   "execution_count": 23,
   "id": "e96d9d74-4bd3-4a94-95c9-1d8cded3324f",
   "metadata": {},
   "outputs": [
    {
     "name": "stdout",
     "output_type": "stream",
     "text": [
      "Epoch 1/10\n",
      "15/15 [==============================] - 2s 113ms/step - loss: 3.1725 - accuracy: 0.1384 - val_loss: 2.9746 - val_accuracy: 0.1459\n",
      "Epoch 2/10\n",
      "15/15 [==============================] - 2s 120ms/step - loss: 2.9177 - accuracy: 0.1470 - val_loss: 2.8872 - val_accuracy: 0.1760\n",
      "Epoch 3/10\n",
      "15/15 [==============================] - 2s 144ms/step - loss: 2.8033 - accuracy: 0.1685 - val_loss: 2.7822 - val_accuracy: 0.2017\n",
      "Epoch 4/10\n",
      "15/15 [==============================] - 2s 148ms/step - loss: 2.6612 - accuracy: 0.2049 - val_loss: 2.5590 - val_accuracy: 0.2747\n",
      "Epoch 5/10\n",
      "15/15 [==============================] - 2s 140ms/step - loss: 2.4026 - accuracy: 0.3004 - val_loss: 2.4120 - val_accuracy: 0.3090\n",
      "Epoch 6/10\n",
      "15/15 [==============================] - 2s 102ms/step - loss: 2.2522 - accuracy: 0.3487 - val_loss: 2.1508 - val_accuracy: 0.3691\n",
      "Epoch 7/10\n",
      "15/15 [==============================] - 2s 103ms/step - loss: 2.0888 - accuracy: 0.3884 - val_loss: 2.0945 - val_accuracy: 0.3734\n",
      "Epoch 8/10\n",
      "15/15 [==============================] - 2s 121ms/step - loss: 1.9674 - accuracy: 0.4410 - val_loss: 1.9644 - val_accuracy: 0.4163\n",
      "Epoch 9/10\n",
      "15/15 [==============================] - 2s 121ms/step - loss: 1.7903 - accuracy: 0.4635 - val_loss: 1.8371 - val_accuracy: 0.4721\n",
      "Epoch 10/10\n",
      "15/15 [==============================] - 2s 108ms/step - loss: 1.6532 - accuracy: 0.5086 - val_loss: 1.7192 - val_accuracy: 0.5064\n"
     ]
    }
   ],
   "source": [
    "history = model.fit(  x_train, y_train,\n",
    "                      batch_size      = batch_size,\n",
    "                      epochs          = epochs,\n",
    "                      verbose         = fit_verbosity,\n",
    "                      validation_data = (x_test, y_test))"
   ]
  },
  {
   "cell_type": "code",
   "execution_count": 24,
   "id": "5113b092-99a7-4b99-8c83-021556cfd137",
   "metadata": {},
   "outputs": [
    {
     "name": "stdout",
     "output_type": "stream",
     "text": [
      "Max validation accuracy is : 0.5064\n"
     ]
    }
   ],
   "source": [
    "max_val_accuracy = max(history.history[\"val_accuracy\"])\n",
    "print(\"Max validation accuracy is : {:.4f}\".format(max_val_accuracy))"
   ]
  },
  {
   "cell_type": "code",
   "execution_count": 25,
   "id": "b981aa50-91f0-4994-b9b6-32e4dca94fb2",
   "metadata": {},
   "outputs": [
    {
     "name": "stdout",
     "output_type": "stream",
     "text": [
      "Test loss      : 1.7192\n",
      "Test accuracy  : 0.5064\n"
     ]
    }
   ],
   "source": [
    "score = model.evaluate(x_test, y_test, verbose=0)\n",
    "\n",
    "print('Test loss      : {:5.4f}'.format(score[0]))\n",
    "print('Test accuracy  : {:5.4f}'.format(score[1]))"
   ]
  },
  {
   "cell_type": "code",
   "execution_count": null,
   "id": "6329b238-f9eb-4117-94fd-0c43ddfa63cf",
   "metadata": {},
   "outputs": [],
   "source": []
  }
 ],
 "metadata": {
  "kernelspec": {
   "display_name": "Python 3 (ipykernel)",
   "language": "python",
   "name": "python3"
  },
  "language_info": {
   "codemirror_mode": {
    "name": "ipython",
    "version": 3
   },
   "file_extension": ".py",
   "mimetype": "text/x-python",
   "name": "python",
   "nbconvert_exporter": "python",
   "pygments_lexer": "ipython3",
   "version": "3.11.5"
  }
 },
 "nbformat": 4,
 "nbformat_minor": 5
}
